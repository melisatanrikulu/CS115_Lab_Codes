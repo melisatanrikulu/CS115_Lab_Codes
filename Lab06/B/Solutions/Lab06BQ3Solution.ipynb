{
 "cells": [
  {
   "cell_type": "markdown",
   "metadata": {},
   "source": [
    "# Q3\n",
    "Read the files  xCoordinates.txt and yCoordinates.txt into two numpy arrays. Using the data from the files, complete the following questions."
   ]
  },
  {
   "cell_type": "code",
   "execution_count": 1,
   "metadata": {},
   "outputs": [],
   "source": [
    "import numpy as np"
   ]
  },
  {
   "cell_type": "code",
   "execution_count": 2,
   "metadata": {},
   "outputs": [],
   "source": [
    "xvals = np.loadtxt('xCoordinates.txt')\n",
    "yvals = np.loadtxt('yCoordinates.txt')"
   ]
  },
  {
   "cell_type": "markdown",
   "metadata": {},
   "source": [
    "Find the difference between each of the elements in the two arrays, and store in new array diff."
   ]
  },
  {
   "cell_type": "code",
   "execution_count": 3,
   "metadata": {},
   "outputs": [],
   "source": [
    "diff = xvals - yvals"
   ]
  },
  {
   "cell_type": "markdown",
   "metadata": {},
   "source": [
    "\n",
    "Join the arrays containing the x and y coordinates, into a new 2D array, xy, with n rows and 2 columns. Print the result."
   ]
  },
  {
   "cell_type": "code",
   "execution_count": 6,
   "metadata": {},
   "outputs": [],
   "source": [
    "xy = np.array([xvals,yvals])\n",
    "xy = xy.T"
   ]
  },
  {
   "cell_type": "markdown",
   "metadata": {},
   "source": [
    "Create a new array, points_above, that stores all points from xy that are greater than zero.  \n"
   ]
  },
  {
   "cell_type": "code",
   "execution_count": 16,
   "metadata": {},
   "outputs": [
    {
     "name": "stdout",
     "output_type": "stream",
     "text": [
      "[array([[ 1.06,  2.18],\n",
      "       [ 0.21, -2.84],\n",
      "       [ 2.66, -2.09],\n",
      "       [ 1.41, -0.79],\n",
      "       [ 0.26,  1.07],\n",
      "       [ 1.14, -2.96],\n",
      "       [ 0.87, -2.73],\n",
      "       [ 2.05,  2.58],\n",
      "       [ 2.94,  2.36],\n",
      "       [ 1.15, -1.42],\n",
      "       [ 0.9 , -0.92],\n",
      "       [ 2.63,  2.03],\n",
      "       [ 0.39, -2.55],\n",
      "       [ 0.55,  1.61],\n",
      "       [ 0.01,  1.41],\n",
      "       [ 1.21,  1.19],\n",
      "       [ 0.86, -1.07],\n",
      "       [ 1.98,  1.15],\n",
      "       [ 2.59, -1.36],\n",
      "       [ 1.37, -2.39],\n",
      "       [ 0.4 ,  0.04],\n",
      "       [ 1.85, -1.63],\n",
      "       [ 1.07, -2.59],\n",
      "       [ 2.16, -0.65],\n",
      "       [ 0.52, -2.11],\n",
      "       [ 0.61,  0.63],\n",
      "       [ 1.19,  1.66],\n",
      "       [ 2.26, -2.09],\n",
      "       [ 1.24, -2.19],\n",
      "       [ 0.77, -1.34],\n",
      "       [ 0.38,  1.17],\n",
      "       [ 0.35, -0.13],\n",
      "       [ 0.6 ,  0.97],\n",
      "       [ 2.12,  0.03],\n",
      "       [ 0.7 ,  2.72],\n",
      "       [ 2.35, -1.3 ],\n",
      "       [ 2.92,  2.15],\n",
      "       [ 2.17,  2.64],\n",
      "       [ 2.74,  0.75],\n",
      "       [ 2.89, -0.02],\n",
      "       [ 1.16,  2.08],\n",
      "       [ 0.14,  1.59],\n",
      "       [ 1.66, -0.47],\n",
      "       [ 1.15, -2.96],\n",
      "       [ 0.34,  2.78],\n",
      "       [ 2.38, -2.91],\n",
      "       [ 0.79,  2.4 ],\n",
      "       [ 2.25, -0.95],\n",
      "       [ 2.08, -2.14],\n",
      "       [ 2.09,  1.18],\n",
      "       [ 2.79,  0.38],\n",
      "       [ 2.68,  1.82]])\n",
      " array([[ 1.06,  2.18],\n",
      "       [-1.84,  0.68],\n",
      "       [-2.02,  2.57],\n",
      "       [ 0.26,  1.07],\n",
      "       [-0.43,  2.4 ],\n",
      "       [ 2.05,  2.58],\n",
      "       [ 2.94,  2.36],\n",
      "       [ 2.63,  2.03],\n",
      "       [ 0.55,  1.61],\n",
      "       [ 0.01,  1.41],\n",
      "       [ 1.21,  1.19],\n",
      "       [-0.22,  1.97],\n",
      "       [ 1.98,  1.15],\n",
      "       [-2.79,  1.14],\n",
      "       [-0.52,  0.06],\n",
      "       [ 0.4 ,  0.04],\n",
      "       [-1.58,  1.29],\n",
      "       [ 0.61,  0.63],\n",
      "       [-2.61,  0.4 ],\n",
      "       [ 1.19,  1.66],\n",
      "       [ 0.38,  1.17],\n",
      "       [-2.35,  0.68],\n",
      "       [ 0.6 ,  0.97],\n",
      "       [ 2.12,  0.03],\n",
      "       [-1.88,  1.81],\n",
      "       [ 0.7 ,  2.72],\n",
      "       [ 2.92,  2.15],\n",
      "       [-1.66,  0.47],\n",
      "       [-0.13,  1.87],\n",
      "       [ 2.17,  2.64],\n",
      "       [ 2.74,  0.75],\n",
      "       [ 1.16,  2.08],\n",
      "       [ 0.14,  1.59],\n",
      "       [-1.99,  0.4 ],\n",
      "       [ 0.34,  2.78],\n",
      "       [-0.75,  2.83],\n",
      "       [-0.86,  2.  ],\n",
      "       [ 0.79,  2.4 ],\n",
      "       [-2.52,  1.25],\n",
      "       [ 2.09,  1.18],\n",
      "       [ 2.79,  0.38],\n",
      "       [-0.73,  2.86],\n",
      "       [-0.15,  0.89],\n",
      "       [-2.91,  1.78],\n",
      "       [-0.71,  1.09],\n",
      "       [ 2.68,  1.82],\n",
      "       [-2.07,  1.65]])]\n"
     ]
    }
   ],
   "source": [
    "#points_above1 = np.array(xy[xy[:,0] > 0])\n",
    "#points_above = points_above1[points_above1[:,1] > 0]\n",
    "points_above = np.array([np.array(xy[xy[:,0] > 0]), np.array(xy[xy[:,1] > 0])])\n",
    "print(points_above)"
   ]
  },
  {
   "cell_type": "markdown",
   "metadata": {},
   "source": [
    "Write the points above to a text file, points_above.txt with two decimal places."
   ]
  },
  {
   "cell_type": "code",
   "execution_count": 13,
   "metadata": {},
   "outputs": [
    {
     "ename": "TypeError",
     "evalue": "Mismatch between array dtype ('object') and format specifier ('%.2f')",
     "output_type": "error",
     "traceback": [
      "\u001b[1;31m---------------------------------------------------------------------------\u001b[0m",
      "\u001b[1;31mTypeError\u001b[0m                                 Traceback (most recent call last)",
      "\u001b[1;32mC:\\ProgramData\\Anaconda3\\lib\\site-packages\\numpy\\lib\\npyio.py\u001b[0m in \u001b[0;36msavetxt\u001b[1;34m(fname, X, fmt, delimiter, newline, header, footer, comments, encoding)\u001b[0m\n\u001b[0;32m   1370\u001b[0m                 \u001b[1;32mtry\u001b[0m\u001b[1;33m:\u001b[0m\u001b[1;33m\u001b[0m\u001b[0m\n\u001b[1;32m-> 1371\u001b[1;33m                     \u001b[0mv\u001b[0m \u001b[1;33m=\u001b[0m \u001b[0mformat\u001b[0m \u001b[1;33m%\u001b[0m \u001b[0mtuple\u001b[0m\u001b[1;33m(\u001b[0m\u001b[0mrow\u001b[0m\u001b[1;33m)\u001b[0m \u001b[1;33m+\u001b[0m \u001b[0mnewline\u001b[0m\u001b[1;33m\u001b[0m\u001b[0m\n\u001b[0m\u001b[0;32m   1372\u001b[0m                 \u001b[1;32mexcept\u001b[0m \u001b[0mTypeError\u001b[0m\u001b[1;33m:\u001b[0m\u001b[1;33m\u001b[0m\u001b[0m\n",
      "\u001b[1;31mTypeError\u001b[0m: only size-1 arrays can be converted to Python scalars",
      "\nDuring handling of the above exception, another exception occurred:\n",
      "\u001b[1;31mTypeError\u001b[0m                                 Traceback (most recent call last)",
      "\u001b[1;32m<ipython-input-13-23c6d0615acd>\u001b[0m in \u001b[0;36m<module>\u001b[1;34m()\u001b[0m\n\u001b[1;32m----> 1\u001b[1;33m \u001b[0mnp\u001b[0m\u001b[1;33m.\u001b[0m\u001b[0msavetxt\u001b[0m\u001b[1;33m(\u001b[0m\u001b[1;34m'points_above.txt'\u001b[0m\u001b[1;33m,\u001b[0m \u001b[0mpoints_above\u001b[0m\u001b[1;33m,\u001b[0m \u001b[0mfmt\u001b[0m\u001b[1;33m=\u001b[0m\u001b[1;34m'%.2f'\u001b[0m\u001b[1;33m)\u001b[0m\u001b[1;33m\u001b[0m\u001b[0m\n\u001b[0m",
      "\u001b[1;32mC:\\ProgramData\\Anaconda3\\lib\\site-packages\\numpy\\lib\\npyio.py\u001b[0m in \u001b[0;36msavetxt\u001b[1;34m(fname, X, fmt, delimiter, newline, header, footer, comments, encoding)\u001b[0m\n\u001b[0;32m   1373\u001b[0m                     raise TypeError(\"Mismatch between array dtype ('%s') and \"\n\u001b[0;32m   1374\u001b[0m                                     \u001b[1;34m\"format specifier ('%s')\"\u001b[0m\u001b[1;33m\u001b[0m\u001b[0m\n\u001b[1;32m-> 1375\u001b[1;33m                                     % (str(X.dtype), format))\n\u001b[0m\u001b[0;32m   1376\u001b[0m                 \u001b[0mfh\u001b[0m\u001b[1;33m.\u001b[0m\u001b[0mwrite\u001b[0m\u001b[1;33m(\u001b[0m\u001b[0mv\u001b[0m\u001b[1;33m)\u001b[0m\u001b[1;33m\u001b[0m\u001b[0m\n\u001b[0;32m   1377\u001b[0m \u001b[1;33m\u001b[0m\u001b[0m\n",
      "\u001b[1;31mTypeError\u001b[0m: Mismatch between array dtype ('object') and format specifier ('%.2f')"
     ]
    }
   ],
   "source": [
    "np.savetxt('points_above.txt', points_above, fmt='%.2f')"
   ]
  },
  {
   "cell_type": "code",
   "execution_count": null,
   "metadata": {},
   "outputs": [],
   "source": []
  }
 ],
 "metadata": {
  "kernelspec": {
   "display_name": "Python 3",
   "language": "python",
   "name": "python3"
  },
  "language_info": {
   "codemirror_mode": {
    "name": "ipython",
    "version": 3
   },
   "file_extension": ".py",
   "mimetype": "text/x-python",
   "name": "python",
   "nbconvert_exporter": "python",
   "pygments_lexer": "ipython3",
   "version": "3.6.4"
  }
 },
 "nbformat": 4,
 "nbformat_minor": 2
}
